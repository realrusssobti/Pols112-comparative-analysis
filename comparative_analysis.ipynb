{
 "cells": [
  {
   "cell_type": "markdown",
   "id": "559b18e6",
   "metadata": {},
   "source": [
    "# Political Science 112 - American and California Government - Assignment #1-3\n"
   ]
  },
  {
   "cell_type": "markdown",
   "id": "13e4e556",
   "metadata": {},
   "source": [
    "## 1. Setup"
   ]
  },
  {
   "cell_type": "code",
   "execution_count": 181,
   "id": "b45bb2c2",
   "metadata": {},
   "outputs": [
    {
     "name": "stdout",
     "output_type": "stream",
     "text": [
      "Requirement already satisfied: countryinfo in /opt/homebrew/lib/python3.10/site-packages (0.1.2)\n",
      "Requirement already satisfied: pandas in /opt/homebrew/lib/python3.10/site-packages (1.5.0)\n",
      "Requirement already satisfied: python-dateutil>=2.8.1 in /opt/homebrew/lib/python3.10/site-packages (from pandas) (2.8.2)\n",
      "Requirement already satisfied: pytz>=2020.1 in /opt/homebrew/lib/python3.10/site-packages (from pandas) (2022.2.1)\n",
      "Requirement already satisfied: numpy>=1.21.0 in /opt/homebrew/lib/python3.10/site-packages (from pandas) (1.23.2)\n",
      "Requirement already satisfied: six>=1.5 in /opt/homebrew/lib/python3.10/site-packages (from python-dateutil>=2.8.1->pandas) (1.16.0)\n",
      "Requirement already satisfied: openpyxl in /opt/homebrew/lib/python3.10/site-packages (3.0.10)\n",
      "Requirement already satisfied: et-xmlfile in /opt/homebrew/lib/python3.10/site-packages (from openpyxl) (1.1.0)\n"
     ]
    }
   ],
   "source": [
    "# Installing dependencies that are not available in the default Python 3.10 environment\n",
    "!pip3 install countryinfo\n",
    "!pip3 install pandas\n",
    "!pip3 install openpyxl\n"
   ]
  },
  {
   "cell_type": "code",
   "execution_count": 182,
   "id": "078e54d1",
   "metadata": {},
   "outputs": [],
   "source": [
    "#imports\n",
    "import pandas\n",
    "import countryinfo\n",
    "import os\n",
    "import pickle\n",
    "import pprint as pp"
   ]
  },
  {
   "cell_type": "code",
   "execution_count": 183,
   "id": "9eb7f37e",
   "metadata": {},
   "outputs": [],
   "source": [
    "# Load the CSV\n",
    "vdem_dataset = pandas.read_csv(\"vdem.csv\")"
   ]
  },
  {
   "cell_type": "code",
   "execution_count": 184,
   "id": "d991f6bd",
   "metadata": {},
   "outputs": [],
   "source": [
    "vdem_headers = list(vdem_dataset.columns)\n",
    "# pp.pprint(vdem_headers)"
   ]
  },
  {
   "cell_type": "code",
   "execution_count": 185,
   "id": "5840fc28",
   "metadata": {},
   "outputs": [
    {
     "name": "stdout",
     "output_type": "stream",
     "text": [
      "    country_name country_text_id  country_id  year historical_date  project  \\\n",
      "232       Mexico             MEX           3  2021      2021-12-31        0   \n",
      "354     Suriname             SUR           4  2021      2021-12-31        0   \n",
      "587       Sweden             SWE           5  2021      2021-12-31        0   \n",
      "811  Switzerland             CHE           6  2021      2021-12-31        0   \n",
      "931        Ghana             GHA           7  2021      2021-12-31        0   \n",
      "\n",
      "     historical                                  histname  codingstart  \\\n",
      "232           1                     United Mexican States         1789   \n",
      "354           0  Republic of Suriname [independent state]         1900   \n",
      "587           1                         Kingdom of Sweden         1789   \n",
      "811           1                       Swiss Confederation         1798   \n",
      "931           0                         Republic of Ghana         1902   \n",
      "\n",
      "     codingend  ...  v2xme_altinf_sd  v2xps_party  v2xps_party_codelow  \\\n",
      "232       2021  ...            0.659        0.840                0.694   \n",
      "354       2021  ...            0.667        0.712                0.537   \n",
      "587       2021  ...            0.651        0.996                0.966   \n",
      "811       2021  ...            0.652        0.903                0.746   \n",
      "931       2021  ...            0.649        0.661                0.532   \n",
      "\n",
      "     v2xps_party_codehigh  v2x_divparctrl  v2x_feduni  v2xca_academ  \\\n",
      "232                 0.917          -1.327       0.961         0.768   \n",
      "354                 0.868           0.136       0.472         0.771   \n",
      "587                 1.000          -0.017       0.942         0.959   \n",
      "811                 0.960           0.323       0.996         0.958   \n",
      "931                 0.776           1.623         NaN         0.767   \n",
      "\n",
      "     v2xca_academ_codelow  v2xca_academ_codehigh  v2xca_academ_sd  \n",
      "232                 0.672                  0.846            0.616  \n",
      "354                 0.677                  0.856            0.620  \n",
      "587                 0.924                  0.981            0.627  \n",
      "811                 0.916                  0.981            0.640  \n",
      "931                 0.662                  0.859            0.631  \n",
      "\n",
      "[5 rows x 1818 columns]\n"
     ]
    }
   ],
   "source": [
    "# Get the country names\n",
    "country_names = vdem_dataset['country_name']\n",
    "\n",
    "# Remove all countries that don't have a v2x_polyarchy score\n",
    "vdem_dataset = vdem_dataset.dropna(subset=['v2x_polyarchy'])\n",
    "\n",
    "# remove all entries where year is not 2021\n",
    "vdem_dataset = vdem_dataset[vdem_dataset['year'] == 2021]\n",
    "print(vdem_dataset.head(5))"
   ]
  },
  {
   "cell_type": "markdown",
   "id": "71fc9c13",
   "metadata": {},
   "source": [
    "## Ranking by Polyarchy Index"
   ]
  },
  {
   "cell_type": "code",
   "execution_count": 186,
   "id": "347014c4",
   "metadata": {},
   "outputs": [
    {
     "name": "stdout",
     "output_type": "stream",
     "text": [
      "      country_name  v2x_polyarchy\n",
      "0          Denmark          0.908\n",
      "1           Sweden          0.907\n",
      "2       Costa Rica          0.900\n",
      "3           Norway          0.898\n",
      "4          Estonia          0.891\n",
      "5      New Zealand          0.887\n",
      "6          Ireland          0.885\n",
      "7          Belgium          0.885\n",
      "8      Switzerland          0.885\n",
      "9         Portugal          0.883\n",
      "10      Luxembourg          0.878\n",
      "11          France          0.874\n",
      "12         Germany          0.870\n",
      "13         Finland          0.868\n",
      "14  United Kingdom          0.863\n",
      "15     Netherlands          0.862\n",
      "16     South Korea          0.861\n",
      "17          Canada          0.857\n",
      "18           Spain          0.856\n",
      "19       Australia          0.854\n"
     ]
    }
   ],
   "source": [
    "#sort the dataframe by the v2x_polyarchy score \n",
    "vdem_dataset = vdem_dataset.sort_values(by=['v2x_polyarchy'], ascending=False)\n",
    "\n",
    "#Reindex the dataframe\n",
    "vdem_dataset = vdem_dataset.reset_index(drop=True)\n",
    "\n",
    "#Print the top 20 countries, their name and their v2x_polyarchy score\n",
    "ranking = vdem_dataset[['country_name', 'v2x_polyarchy']].head(168)\n",
    "\n",
    "# ranking to csv file\n",
    "ranking.to_csv('ranking.csv', index=False, header=False)\n",
    "pp.pprint(vdem_dataset[['country_name', 'v2x_polyarchy']].head(20))"
   ]
  },
  {
   "cell_type": "markdown",
   "id": "e58e1c4b",
   "metadata": {},
   "source": [
    "# Selected Countries: Denmark, USA, India, and China"
   ]
  },
  {
   "cell_type": "markdown",
   "id": "d2bcab57",
   "metadata": {},
   "source": [
    "## Assignment 1"
   ]
  },
  {
   "cell_type": "code",
   "execution_count": 187,
   "id": "182d7cd1",
   "metadata": {},
   "outputs": [
    {
     "name": "stdout",
     "output_type": "stream",
     "text": [
      "                 country_name  v2x_polyarchy  v2xcs_ccsi\n",
      "0                     Denmark          0.908       0.969\n",
      "28   United States of America          0.821       0.960\n",
      "99                      India          0.444       0.355\n",
      "175                     China          0.078       0.057\n"
     ]
    }
   ],
   "source": [
    "# Create a dataframe with the country names, v2x_polyarchy score, v2x_ccsi score for Denmark, USA, India, China\n",
    "countries = ['Denmark', 'United States of America', 'India', 'China']\n",
    "country_data = vdem_dataset[vdem_dataset['country_name'].isin(countries)]\n",
    "country_data = country_data[['country_name', 'v2x_polyarchy', 'v2xcs_ccsi']]\n",
    "print(country_data)\n",
    "\n"
   ]
  },
  {
   "cell_type": "code",
   "execution_count": 188,
   "id": "8e31432b",
   "metadata": {},
   "outputs": [
    {
     "name": "stdout",
     "output_type": "stream",
     "text": [
      "[5655750, 319259000, 1263930000, 1367110000]\n",
      "                 country_name  v2x_polyarchy  v2xcs_ccsi  population\n",
      "0                     Denmark          0.908       0.969     5655750\n",
      "28   United States of America          0.821       0.960   319259000\n",
      "99                      India          0.444       0.355  1263930000\n",
      "175                     China          0.078       0.057  1367110000\n"
     ]
    }
   ],
   "source": [
    "# Now, add the population of the countries to the dataframe\n",
    "populations = []\n",
    "for country in countries:\n",
    "    populations.append(countryinfo.CountryInfo(country).population())\n",
    "print(populations)\n",
    "# Add the population to the dataframe\n",
    "country_data['population'] = populations\n",
    "print(country_data)"
   ]
  },
  {
   "cell_type": "code",
   "execution_count": 189,
   "id": "9a9e3307",
   "metadata": {},
   "outputs": [],
   "source": [
    "# Racial and Ethnic Diversity Columns\n",
    "# Data comes from Google, manually inputted because countryinfo has no racial/ethnic data available\n",
    "\n",
    "biggest_racial_groups = []\n",
    "racial_group_percentages = []\n",
    "\n",
    "# Denmark \n",
    "biggest_racial_groups.append([\"Danish\",\"Turkish\",\"Other\"])\n",
    "racial_group_percentages.append([0.863,0.011,0.126])\n",
    "\n",
    "#USA\n",
    "biggest_racial_groups.append([\"White\",\"Hispanic\",\"Black\"])\n",
    "racial_group_percentages.append([0.601,0.185,0.122])\n",
    "\n",
    "#India\n",
    "biggest_racial_groups.append([\"Indo-Aryan\",\"Dravidian\",\"Other\"])\n",
    "racial_group_percentages.append([0.72,0.25,0.03])\n",
    "\n",
    "#China\n",
    "biggest_racial_groups.append([\"Han\",\"Zhuang\",\"Hui\"])\n",
    "racial_group_percentages.append([0.916,0.0127,0.007943])\n"
   ]
  },
  {
   "cell_type": "code",
   "execution_count": 190,
   "id": "780abe61",
   "metadata": {},
   "outputs": [
    {
     "name": "stdout",
     "output_type": "stream",
     "text": [
      "                 country_name  v2x_polyarchy  v2xcs_ccsi  population  \\\n",
      "0                     Denmark          0.908       0.969     5655750   \n",
      "28   United States of America          0.821       0.960   319259000   \n",
      "99                      India          0.444       0.355  1263930000   \n",
      "175                     China          0.078       0.057  1367110000   \n",
      "\n",
      "    Biggest Ethnic Group Second Biggest Ethnic Group  \\\n",
      "0                 Danish                     Turkish   \n",
      "28                 White                    Hispanic   \n",
      "99            Indo-Aryan                   Dravidian   \n",
      "175                  Han                      Zhuang   \n",
      "\n",
      "    Third Biggest Ethnic Group Biggest Ethnic Group Percentage  \\\n",
      "0                        Other                           86.3%   \n",
      "28                       Black             60.099999999999994%   \n",
      "99                       Other                           72.0%   \n",
      "175                        Hui              91.60000000000001%   \n",
      "\n",
      "    Second Biggest Ethnic Group Percentage  \\\n",
      "0                      1.0999999999999999%   \n",
      "28                                   18.5%   \n",
      "99                                   25.0%   \n",
      "175                                  1.27%   \n",
      "\n",
      "    Third Biggest Ethnic Group Percentage  \n",
      "0                                   12.6%  \n",
      "28                                  12.2%  \n",
      "99                                   3.0%  \n",
      "175                               0.7943%  \n"
     ]
    }
   ],
   "source": [
    "# Add in the racial groups and percentages to the dataframe. I know I could make this a one-liner, but like to be honest this is easier to read\n",
    "country_data['Biggest Ethnic Group'] = [biggest_racial_group[0] for biggest_racial_group in biggest_racial_groups]\n",
    "country_data['Second Biggest Ethnic Group'] = [biggest_racial_group[1] for biggest_racial_group in biggest_racial_groups]\n",
    "country_data['Third Biggest Ethnic Group'] = [biggest_racial_group[2] for biggest_racial_group in biggest_racial_groups]\n",
    "country_data['Biggest Ethnic Group Percentage'] = [\"{}%\".format(racial_group_percentage[0]*100) for racial_group_percentage in racial_group_percentages]\n",
    "country_data['Second Biggest Ethnic Group Percentage'] = [\"{}%\".format(racial_group_percentage[1]*100) for racial_group_percentage in racial_group_percentages]\n",
    "country_data['Third Biggest Ethnic Group Percentage'] = [\"{}%\".format(racial_group_percentage[2]*100) for racial_group_percentage in racial_group_percentages]\n",
    "#Drop index\n",
    "country_data.reset_index(drop=True)\n",
    "print(country_data)"
   ]
  },
  {
   "cell_type": "code",
   "execution_count": 191,
   "id": "f4d7e9b4",
   "metadata": {},
   "outputs": [
    {
     "name": "stdout",
     "output_type": "stream",
     "text": [
      "                 country_name  v2x_polyarchy  v2xcs_ccsi  population  \\\n",
      "0                     Denmark          0.908       0.969     5655750   \n",
      "28   United States of America          0.821       0.960   319259000   \n",
      "99                      India          0.444       0.355  1263930000   \n",
      "175                     China          0.078       0.057  1367110000   \n",
      "\n",
      "    Biggest Ethnic Group Second Biggest Ethnic Group  \\\n",
      "0                 Danish                     Turkish   \n",
      "28                 White                    Hispanic   \n",
      "99            Indo-Aryan                   Dravidian   \n",
      "175                  Han                      Zhuang   \n",
      "\n",
      "    Third Biggest Ethnic Group Biggest Ethnic Group Percentage  \\\n",
      "0                        Other                           86.3%   \n",
      "28                       Black             60.099999999999994%   \n",
      "99                       Other                           72.0%   \n",
      "175                        Hui              91.60000000000001%   \n",
      "\n",
      "    Second Biggest Ethnic Group Percentage  \\\n",
      "0                      1.0999999999999999%   \n",
      "28                                   18.5%   \n",
      "99                                   25.0%   \n",
      "175                                  1.27%   \n",
      "\n",
      "    Third Biggest Ethnic Group Percentage  \n",
      "0                                   12.6%  \n",
      "28                                  12.2%  \n",
      "99                                   3.0%  \n",
      "175                               0.7943%  \n"
     ]
    }
   ],
   "source": [
    "#export Assignment 1 data to excel\n",
    "country_data.to_excel(\"assignment01.xlsx\")\n",
    "#Print to console!\n",
    "pp.pprint(country_data)"
   ]
  },
  {
   "cell_type": "markdown",
   "id": "cd6a3bc4",
   "metadata": {},
   "source": [
    "# Assignment 2\n",
    "Columns: \t\t\t\n",
    "Country code,\tv2elloseat,\tv2elloeldm,\tv2elparlel,\tNumber of parties in current legislature,\tNumber of seats per party,\tGoverning party,\n",
    "\n",
    "Headers:\n",
    "Country Code, Legislature Seats, Legislative District Magnitude, Legislative Electoral System, Number of Parties, Seats per Party, Governing Party\n",
    "\n"
   ]
  },
  {
   "cell_type": "code",
   "execution_count": 192,
   "id": "7c8d544d",
   "metadata": {},
   "outputs": [
    {
     "name": "stdout",
     "output_type": "stream",
     "text": [
      "Countries to analyze: ['Denmark', 'United States of America', 'India', 'China']\n",
      "['Group.1', 'v2x_polyarchy', 'v2xcs_ccsi', 'v2capolit', 'v2peapssoc', 'v2csprtcpt', 'v2psbars', 'v2elloseat', 'v2elloeldm', 'v2elparlel', 'v2lgbicam', 'v2xnp_pres', 'v2juhcind', 'v2xnp_regcorr', 'v2peapsecon', 'v2xeg_eqdr', 'v2pehealth']\n"
     ]
    }
   ],
   "source": [
    "print(\"Countries to analyze: \"+str(countries))\n",
    "country_data = vdem_dataset[vdem_dataset['country_name'].isin(countries)]\n",
    "\n",
    "# Read the professor's stripped down version of the dataset\n",
    "professor_dataset = pandas.read_excel(\"POLS112assignments.xlsx\", sheet_name=\"V-Dem data\")\n",
    "professor_headers = list(professor_dataset.columns)\n",
    "print(professor_headers)\n"
   ]
  },
  {
   "cell_type": "code",
   "execution_count": 193,
   "id": "4adf7002",
   "metadata": {},
   "outputs": [],
   "source": [
    "\n",
    "# Map of countries to their respective country codes:\n",
    "country_codes = {\n",
    "    'Denmark': 'DNK',\n",
    "    'United States of America': 'USA',\n",
    "    'India': 'IND',\n",
    "    'China': 'CHN'\n",
    "}\n",
    "\n",
    "# Map of countries to their number of parties\n",
    "country_parties = {\n",
    "    'DNK': 10,\n",
    "    'USA': 2,\n",
    "    'IND': 6,\n",
    "    'CHN': 1\n",
    "}\n",
    "\n",
    "# Map of countries to their number of seats per party\n",
    "country_seats = {\n",
    "    'DNK': [25.90,23.39,8.74,8.63,7.71,6.94,6.62,2.95,2.36,2.33],\n",
    "    'USA': [51.3, 48.7],\n",
    "    'IND': [37.7,32.2,19.7,4.1,3.7,2.6],\n",
    "    'CHN': [100]\n",
    "}\n",
    "\n",
    "# Map of countries to the name of their governing party\n",
    "country_governing_party = {\n",
    "    'DNK': 'Social Democrats',\n",
    "    'USA': 'Democratic Party',\n",
    "    'IND': 'Bharatiya Janata Party',\n",
    "    'CHN': 'Chinese Communist Party'\n",
    "    }\n"
   ]
  },
  {
   "cell_type": "code",
   "execution_count": 194,
   "id": "53527ec6",
   "metadata": {},
   "outputs": [],
   "source": [
    "\n",
    "# Build the stripped dataset of vdem data\n",
    "table = pandas.DataFrame(columns=[\"Country Code\", \"Legislature Seats\", \"Legislative District Magnitude\", \"Legislative Electoral System\", \"Number of Parties\", \"Percent Control by party\", \"Governing Party\"])\n",
    "country_data = professor_dataset[professor_dataset[\"Group.1\"].isin(country_codes.values())]\n",
    "country_data = country_data[[\"Group.1\",'v2elloseat', 'v2elloeldm', 'v2elparlel']]\n"
   ]
  },
  {
   "cell_type": "code",
   "execution_count": 195,
   "id": "ece0b269",
   "metadata": {},
   "outputs": [],
   "source": [
    "\n",
    "# Add columns to the table\n",
    "table[\"Country Code\"] = country_data[\"Group.1\"]\n",
    "table[\"Legislature Seats\"] = country_data[\"v2elloseat\"]\n",
    "table[\"Legislative District Magnitude\"] = country_data[\"v2elloeldm\"]\n",
    "table[\"Legislative Electoral System\"] = country_data[\"v2elparlel\"]\n",
    "table[\"Number of Parties\"] = [country_parties[country_code] for country_code in table[\"Country Code\"]]\n",
    "table[\"Seats per Party\"] = [country_seats[country_code] for country_code in table[\"Country Code\"]]\n",
    "table[\"Governing Party\"] = [country_governing_party[country_code] for country_code in table[\"Country Code\"]]\n",
    "# Drop the index column\n",
    "table = table.reset_index(drop=True)\n"
   ]
  },
  {
   "cell_type": "code",
   "execution_count": 196,
   "id": "f04c09f8",
   "metadata": {},
   "outputs": [
    {
     "name": "stdout",
     "output_type": "stream",
     "text": [
      "  Country Code  Legislature Seats  Legislative District Magnitude  \\\n",
      "0          CHN                NaN                             NaN   \n",
      "1          DNK              179.0                            13.8   \n",
      "2          IND              543.0                             1.0   \n",
      "3          USA              435.0                             1.0   \n",
      "\n",
      "   Legislative Electoral System  Number of Parties Percent Control by party  \\\n",
      "0                           NaN                  1                      NaN   \n",
      "1                           1.0                 10                      NaN   \n",
      "2                           0.0                  6                      NaN   \n",
      "3                           0.0                  2                      NaN   \n",
      "\n",
      "           Governing Party                                    Seats per Party  \n",
      "0  Chinese Communist Party                                               100%  \n",
      "1         Social Democrats  25.9%, 23.39%, 8.74%, 8.63%, 7.71%, 6.94%, 6.6...  \n",
      "2   Bharatiya Janata Party              37.7%, 32.2%, 19.7%, 4.1%, 3.7%, 2.6%  \n",
      "3         Democratic Party                                       51.3%, 48.7%  \n"
     ]
    }
   ],
   "source": [
    "\n",
    "# Make it so the list of seats per party doesn't have brackets and pads each value with %\n",
    "table[\"Seats per Party\"] = [\", \".join([\"{}%\".format(seat) for seat in seats]) for seats in table[\"Seats per Party\"]]\n",
    "print(table)\n"
   ]
  },
  {
   "cell_type": "code",
   "execution_count": 197,
   "id": "4a76b719",
   "metadata": {},
   "outputs": [],
   "source": [
    "\n",
    "# Export to excel\n",
    "table.to_excel(\"assignment02.xlsx\")"
   ]
  },
  {
   "cell_type": "markdown",
   "id": "cd6a3bc4",
   "metadata": {},
   "source": [
    "# Assignment 3\n",
    "Headers: Country Code, Bicameralism, Selection of Executive, Judicial Indepencence, Regime Corruption, Exclusion by Social Group, Distribution of Resources, Health Equality, Infant Mortality, Incarceration Rate\n",
    "\n",
    "V-Dem Variables: v2lgbicam, v2nxp_pres, v2juhcind, v2nxp_regcorr, v2peapsecon, v2xeg_eqdr, v2pehealth\n",
    "\n",
    "Manual entry: Infant Mortality, Incarceration Rate\n"
   ]
  },
  {
   "cell_type": "code",
   "execution_count": 198,
   "id": "3813be3c",
   "metadata": {},
   "outputs": [
    {
     "name": "stdout",
     "output_type": "stream",
     "text": [
      "Countries to analyze: ['Denmark', 'United States of America', 'India', 'China']\n",
      "['Group.1', 'v2x_polyarchy', 'v2xcs_ccsi', 'v2capolit', 'v2peapssoc', 'v2csprtcpt', 'v2psbars', 'v2elloseat', 'v2elloeldm', 'v2elparlel', 'v2lgbicam', 'v2xnp_pres', 'v2juhcind', 'v2xnp_regcorr', 'v2peapsecon', 'v2xeg_eqdr', 'v2pehealth']\n"
     ]
    }
   ],
   "source": [
    "print(\"Countries to analyze: \"+str(countries))\n",
    "country_data = vdem_dataset[vdem_dataset['country_name'].isin(countries)]\n",
    "\n",
    "# Read the professor's stripped down version of the dataset\n",
    "professor_dataset = pandas.read_excel(\"POLS112assignments.xlsx\", sheet_name=\"V-Dem data\")\n",
    "professor_headers = list(professor_dataset.columns)\n",
    "print(professor_headers)"
   ]
  },
  {
   "cell_type": "code",
   "execution_count": 199,
   "id": "d0eab08c",
   "metadata": {},
   "outputs": [],
   "source": [
    "# Map of countries to their respective country codes:\n",
    "country_codes = {\n",
    "    'Denmark': 'DNK',\n",
    "    'United States of America': 'USA',\n",
    "    'India': 'IND',\n",
    "    'China': 'CHN'\n",
    "}\n",
    "\n",
    "# Map of countries to their number of parties\n",
    "mortality_rate = {\n",
    "    'DNK': \"3.1/1000\",\n",
    "    'USA': \"5.4/1000\",\n",
    "    'IND': \"27/1000\",\n",
    "    'CHN': \"5.5/1000\"\n",
    "}\n",
    "\n",
    "# Map of countries to their number of seats per party\n",
    "incarceration_rate = {\n",
    "    'DNK': \"71/100000\",\n",
    "    'USA': \"358/100000\",\n",
    "    'IND': \"40/100000\",\n",
    "    'CHN': \"121/100000\"\n",
    "}"
   ]
  },
  {
   "cell_type": "code",
   "execution_count": 200,
   "id": "bd932e55",
   "metadata": {},
   "outputs": [
    {
     "name": "stdout",
     "output_type": "stream",
     "text": [
      "    Group.1  v2lgbicam  v2xnp_pres  v2juhcind  v2xnp_regcorr  v2peapsecon  \\\n",
      "27      CHN        1.0    0.857250    -1.6996       0.364000       0.6370   \n",
      "41      DNK        1.0    0.011000     2.8370       0.002000       2.8670   \n",
      "70      IND        2.0    0.172545     1.2312       0.347545      -0.2894   \n",
      "168     USA        2.0    0.051100     2.5401       0.064500       0.8953   \n",
      "\n",
      "     v2xeg_eqdr  v2pehealth  \n",
      "27     0.424462   -0.613900  \n",
      "41     0.965200    2.641600  \n",
      "70     0.294091   -0.921091  \n",
      "168    0.665600    0.508200  \n"
     ]
    }
   ],
   "source": [
    "# Create the stripped dataset of vdem data\n",
    "table = pandas.DataFrame(columns=['Country Code', 'Bicameralism', 'Selection of Executive', 'Judicial Indepencence','Regime Corruption', 'Exclusion by Social Group', 'Distribution of Resources', 'Health Equality', 'Infant Mortality', 'Incarceration Rate'])\n",
    "country_data = professor_dataset[professor_dataset[\"Group.1\"].isin(country_codes.values())]\n",
    "country_data = country_data[[\"Group.1\",'v2lgbicam', 'v2xnp_pres', 'v2juhcind', 'v2xnp_regcorr', 'v2peapsecon', 'v2xeg_eqdr', 'v2pehealth']]\n",
    "print(country_data)"
   ]
  },
  {
   "cell_type": "code",
   "execution_count": 201,
   "id": "246bcad6",
   "metadata": {},
   "outputs": [
    {
     "name": "stdout",
     "output_type": "stream",
     "text": [
      "  Country Code  Bicameralism  Selection of Executive  Judicial Indepencence  \\\n",
      "0          CHN           1.0                0.857250                -1.6996   \n",
      "1          DNK           1.0                0.011000                 2.8370   \n",
      "2          IND           2.0                0.172545                 1.2312   \n",
      "3          USA           2.0                0.051100                 2.5401   \n",
      "\n",
      "   Regime Corruption  Exclusion by Social Group  Distribution of Resources  \\\n",
      "0           0.364000                     0.6370                   0.424462   \n",
      "1           0.002000                     2.8670                   0.965200   \n",
      "2           0.347545                    -0.2894                   0.294091   \n",
      "3           0.064500                     0.8953                   0.665600   \n",
      "\n",
      "   Health Equality Infant Mortality Incarceration Rate  \n",
      "0        -0.613900         5.5/1000         121/100000  \n",
      "1         2.641600         3.1/1000          71/100000  \n",
      "2        -0.921091          27/1000          40/100000  \n",
      "3         0.508200         5.4/1000         358/100000  \n"
     ]
    }
   ],
   "source": [
    "# Build the table\n",
    "table[\"Country Code\"] = country_data[\"Group.1\"]\n",
    "table[\"Bicameralism\"] = country_data[\"v2lgbicam\"]\n",
    "table[\"Selection of Executive\"] = country_data[\"v2xnp_pres\"]\n",
    "table[\"Judicial Indepencence\"] = country_data[\"v2juhcind\"]\n",
    "table[\"Regime Corruption\"] = country_data[\"v2xnp_regcorr\"]\n",
    "table[\"Exclusion by Social Group\"] = country_data[\"v2peapsecon\"]\n",
    "table[\"Distribution of Resources\"] = country_data[\"v2xeg_eqdr\"]\n",
    "table[\"Health Equality\"] = country_data[\"v2pehealth\"]\n",
    "table[\"Infant Mortality\"] = [mortality_rate[country_code] for country_code in table[\"Country Code\"]]\n",
    "table[\"Incarceration Rate\"] = [incarceration_rate[country_code] for country_code in table[\"Country Code\"]]\n",
    "# Drop the index column\n",
    "table = table.reset_index(drop=True)\n",
    "print(table)"
   ]
  },
  {
   "cell_type": "code",
   "execution_count": 202,
   "id": "2f8e1ed8",
   "metadata": {},
   "outputs": [],
   "source": [
    "#export to excel\n",
    "table.to_excel(\"assignment03.xlsx\")"
   ]
  },
  {
   "cell_type": "code",
   "execution_count": 203,
   "id": "85ebabfb",
   "metadata": {},
   "outputs": [
    {
     "name": "stdout",
     "output_type": "stream",
     "text": [
      "Analyzed Countries: ['Denmark', 'United States of America', 'India', 'China']\n"
     ]
    }
   ],
   "source": [
    "print(\"Analyzed Countries: \"+str(countries))"
   ]
  }
 ],
 "metadata": {
  "kernelspec": {
   "display_name": "Python 3.10.6 64-bit",
   "language": "python",
   "name": "python3"
  },
  "language_info": {
   "codemirror_mode": {
    "name": "ipython",
    "version": 3
   },
   "file_extension": ".py",
   "mimetype": "text/x-python",
   "name": "python",
   "nbconvert_exporter": "python",
   "pygments_lexer": "ipython3",
   "version": "3.10.6"
  },
  "vscode": {
   "interpreter": {
    "hash": "b0fa6594d8f4cbf19f97940f81e996739fb7646882a419484c72d19e05852a7e"
   }
  }
 },
 "nbformat": 4,
 "nbformat_minor": 5
}
